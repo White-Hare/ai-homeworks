{
 "cells": [
  {
   "cell_type": "code",
   "execution_count": 80,
   "id": "44a3a678",
   "metadata": {},
   "outputs": [],
   "source": [
    "import numpy as np\n",
    "import pandas as pd\n",
    "import matplotlib.pyplot as plt\n",
    "\n",
    "from sklearn.model_selection import train_test_split\n",
    "from sklearn.metrics import confusion_matrix\n",
    "from sklearn.metrics import mean_squared_error\n",
    "\n",
    "from sklearn.neighbors import KNeighborsClassifier\n",
    "from sklearn.preprocessing import LabelEncoder\n",
    "\n",
    "import scikitplot as skplt"
   ]
  },
  {
   "cell_type": "code",
   "execution_count": 81,
   "id": "2d058a25",
   "metadata": {
    "collapsed": true
   },
   "outputs": [],
   "source": [
    "#Veriyi temizle ve filitrele\n",
    "def clear_data(df, sample_size = 0, number_of_most_played_games = 200):\n",
    "    #Veriyi Temizle ve Duzenle\n",
    "\n",
    "    if sample_size > 0:\n",
    "        df = df.sample(n = sample_size)# Test ederken boyutunu kucult\n",
    "\n",
    "    df = df[['id', 'opening_name', 'white_rating', 'black_rating', 'winner']]#kullanacagin kolonlari al\n",
    "    df = df.set_index('id')\n",
    "\n",
    "\n",
    "    most_played_games = df['opening_name'].value_counts().sort_values().tail(number_of_most_played_games).keys()\n",
    "    df = df.loc[df['opening_name'].isin(most_played_games)]#Cok az ornegi olan satirlari ele.\n",
    "\n",
    "    df['opening_name'] = df['opening_name'].str.strip().str.replace(r'(:.\\|)|(:.)', '', regex = True)#Acilista onemsiz varyasyonlarini gormezden gel. Regular Expression kullanarak filitreledim\n",
    "    df['opening_name'] = df['opening_name'].str.wrap(15)#Okunurlugu artir. Yoksa grafiklerde labellar tasiyor.\n",
    "\n",
    "\n",
    "\n",
    "    #df = df[df['rated'] == True]\n",
    "    df = df[abs(df['white_rating'] - df['black_rating']) < 100]#Elo'lar arasindaki farkin cok olmasi istenilen bir durum degil\n",
    "\n",
    "    lowestElo, highestElo = df['white_rating'].min(), df['white_rating'].max() \n",
    "\n",
    "    lowestElo = int(lowestElo / 100) * 100\n",
    "    highestElo = int(highestElo / 100) * 100 + 100\n",
    "\n",
    "     #Elo araliklari icin yeni kolon olusturdum.\n",
    "    df['rating_range'] = np.nan\n",
    "\n",
    "    for elo in range(lowestElo, highestElo, 100):\n",
    "        df['rating_range'] = np.where(df['white_rating'].between(elo, elo + 100), f'{elo}-{elo + 100}', df['rating_range'])\n",
    "\n",
    "    #print(df['rating_range'].unique())\n",
    "\n",
    "\n",
    "    return df"
   ]
  },
  {
   "cell_type": "code",
   "execution_count": 82,
   "id": "faf34edd",
   "metadata": {},
   "outputs": [],
   "source": [
    "#Label'lara karsilik numerik deger ata\n",
    "def encode_labels(df):\n",
    "    labelencoder = LabelEncoder()\n",
    "\n",
    "    dfc = df.copy()\n",
    "    dfc['opening_name'] = labelencoder.fit_transform(df['opening_name'])\n",
    "    dfc['rating_range'] = labelencoder.fit_transform(df['rating_range'])\n",
    "    dfc['winner'] = labelencoder.fit_transform(df['winner'])\n",
    "\n",
    "\n",
    "\n",
    "    return dfc\n"
   ]
  },
  {
   "cell_type": "code",
   "execution_count": 83,
   "id": "c5a2abe9",
   "metadata": {},
   "outputs": [],
   "source": [
    "def split_train_and_test(df, test_size = 0.25):#Dorte birini test verisi olarak al\n",
    "    x = df[['opening_name', 'white_rating', 'black_rating', 'rating_range']]\n",
    "    y = df['winner']\n",
    "    return train_test_split(x, y, test_size = test_size, random_state = 42) #Veriyi test ve train olarak ikiye ayir.\n"
   ]
  },
  {
   "cell_type": "code",
   "execution_count": 84,
   "id": "436bd9ff",
   "metadata": {},
   "outputs": [],
   "source": [
    "def train(model, x_train, x_test, y_train, y_test):\n",
    "    model = model.fit(x_train, y_train)\n",
    "    return model.predict(x_test)"
   ]
  },
  {
   "cell_type": "code",
   "execution_count": 85,
   "id": "3db9e3c2",
   "metadata": {},
   "outputs": [],
   "source": [
    "\n",
    "#Train ve Validation Hatasi    \n",
    "def calc_metrics(x_train, y_train, x_test, y_test, model):\n",
    "    model.fit(x_train, y_train)\n",
    "\n",
    "    predictions = model.predict(x_train)\n",
    "    train_error = mean_squared_error(y_train, predictions)#Train Hatasi\n",
    "\n",
    "    predictions = model.predict(x_test)\n",
    "    validation_error = mean_squared_error(y_test, predictions)#Validation Hatasi\n",
    "    \n",
    "    return train_error, validation_error"
   ]
  },
  {
   "cell_type": "code",
   "execution_count": 86,
   "id": "52ebbbcc",
   "metadata": {},
   "outputs": [],
   "source": [
    "def get_metrics(y_actual, y_pred, print_confussion_matrix = False):\n",
    "    #white, black, draw olmak uzere uc cesit label var\n",
    "    #confusion matrix 3x3 olacak\n",
    "    labels = np.unique(y_actual)\n",
    "\n",
    "    cm = confusion_matrix(y_actual, y_pred, labels = labels)\n",
    "    fp = cm.sum(axis=0) - np.diag(cm)#false positive\n",
    "    fn = cm.sum(axis=1) - np.diag(cm)#false negative\n",
    "    tp = np.diag(cm)#true positive\n",
    "    tn = cm.sum() - (fp + fn + tp)#true negative\n",
    "\n",
    "    if(print_confussion_matrix):\n",
    "        print(\"----Confusion Matrix----\\n\")\n",
    "        print(pd.DataFrame(cm, index = labels, columns = labels))\n",
    "        print('\\n')\n",
    "\n",
    "    acc = (tp + tn) / (tp + fp + tn + fn)#Dogruluk degerini hesapla\n",
    "    recall = (tp + tn) / (tp + fp + tn + fn)\n",
    "    specifity = tn / (tn + fp)\n",
    "    f_score = 2 * tp / (2 * tp + fp + fn)\n",
    "\n",
    "    return acc, recall, specifity, f_score\n"
   ]
  },
  {
   "cell_type": "code",
   "execution_count": 87,
   "id": "fc5b4696",
   "metadata": {},
   "outputs": [],
   "source": [
    "df = pd.read_csv(\"../datasets/games.csv\")\n",
    "df = clear_data(df)\n",
    "df = encode_labels(df)"
   ]
  },
  {
   "cell_type": "code",
   "execution_count": 94,
   "id": "8e423504",
   "metadata": {},
   "outputs": [],
   "source": [
    "def print_as_table(ks, params):\n",
    "    for i in range(len(ks)):\n",
    "        k = ks[i]\n",
    "        param = params[i]\n",
    "        print(f\"k={k}- accuracy={param[0]}, recall={param[1]}, specifity={param[2]}, f_score={param[3]}\")"
   ]
  },
  {
   "cell_type": "code",
   "execution_count": 77,
   "id": "e0bbb59c",
   "metadata": {},
   "outputs": [],
   "source": [
    "dfc = df.copy()\n",
    "\n",
    "\n",
    "white_params, black_params, draw_params = [], [], []\n",
    "ks = []\n",
    "\n",
    "for k in range(1, 10):#farkli k degerlerine gore olc\n",
    "    ks.append(k)\n",
    "    model = KNeighborsClassifier(n_neighbors=k)\n",
    "    x_train, x_test, y_train, y_test = split_train_and_test(dfc)\n",
    "\n",
    "    y_pred = train(model, x_train, x_test, y_train, y_test)\n",
    "\n",
    "    acc, recall, specifity, f_score = get_metrics(y_test, y_pred)\n",
    "    err = 1 - acc\n",
    "\n",
    "    black_params.append((acc[0], recall[0], specifity[0], f_score[0]))\n",
    "    draw_params.append((acc[1], recall[1], specifity[1], f_score[1]))\n",
    "    white_params.append((acc[2], recall[2], specifity[2], f_score[2]))\n"
   ]
  },
  {
   "cell_type": "code",
   "execution_count": 95,
   "id": "7b0b295b",
   "metadata": {},
   "outputs": [
    {
     "name": "stdout",
     "output_type": "stream",
     "text": [
      "\n",
      "Blacks\n",
      "k=1- accuracy=0.5303126994256541, recall=0.5303126994256541, specifity=0.5617848970251716, f_score=0.480225988700565\n",
      "k=2- accuracy=0.4894703254626675, recall=0.4894703254626675, specifity=0.30892448512585813, f_score=0.5540691192865106\n",
      "k=3- accuracy=0.5169112954690491, recall=0.5169112954690491, specifity=0.540045766590389, f_score=0.47173761339846476\n",
      "k=4- accuracy=0.5079770261646458, recall=0.5079770261646458, specifity=0.41876430205949655, f_score=0.5272838749233599\n",
      "k=5- accuracy=0.5143586470963625, recall=0.5143586470963625, specifity=0.5297482837528604, f_score=0.47408431237042153\n",
      "k=6- accuracy=0.5067007019783025, recall=0.5067007019783025, specifity=0.43592677345537756, f_score=0.5165728580362726\n",
      "k=7- accuracy=0.5303126994256541, recall=0.5303126994256541, specifity=0.5320366132723112, f_score=0.4986376021798365\n",
      "k=8- accuracy=0.5098915124441609, recall=0.5098915124441609, specifity=0.4405034324942792, f_score=0.518796992481203\n",
      "k=9- accuracy=0.5277600510529674, recall=0.5277600510529674, specifity=0.528604118993135, f_score=0.4965986394557823\n",
      "\n",
      "Draws\n",
      "k=1- accuracy=0.9017230376515635, recall=0.9017230376515635, specifity=0.9549795361527967, f_score=0.14444444444444443\n",
      "k=2- accuracy=0.9081046585832802, recall=0.9081046585832802, specifity=0.9631650750341064, f_score=0.13253012048192772\n",
      "k=3- accuracy=0.9298021697511167, recall=0.9298021697511167, specifity=0.9911323328785812, f_score=0.06779661016949153\n",
      "k=4- accuracy=0.9246968730057434, recall=0.9246968730057434, specifity=0.985675306957708, f_score=0.06349206349206349\n",
      "k=5- accuracy=0.9215060625398851, recall=0.9215060625398851, specifity=0.9829467939972715, f_score=0.046511627906976744\n",
      "k=6- accuracy=0.9298021697511167, recall=0.9298021697511167, specifity=0.9938608458390177, f_score=0.0\n",
      "k=7- accuracy=0.9278876834716018, recall=0.9278876834716018, specifity=0.9918144611186903, f_score=0.0\n",
      "k=8- accuracy=0.9291640076579452, recall=0.9291640076579452, specifity=0.9931787175989086, f_score=0.0\n",
      "k=9- accuracy=0.9329929802169751, recall=0.9329929802169751, specifity=0.9972714870395635, f_score=0.0\n",
      "\n",
      "Whites\n",
      "k=1- accuracy=0.5379706445437141, recall=0.5379706445437141, specifity=0.5491183879093199, f_score=0.52925877763329\n",
      "k=2- accuracy=0.5277600510529674, recall=0.5277600510529674, specifity=0.7682619647355163, f_score=0.3696763202725724\n",
      "k=3- accuracy=0.5245692405871091, recall=0.5245692405871091, specifity=0.5075566750629723, f_score=0.5293746051800379\n",
      "k=4- accuracy=0.5220165922144224, recall=0.5220165922144224, specifity=0.6347607052896725, f_score=0.4560639070442992\n",
      "k=5- accuracy=0.5277600510529674, recall=0.5277600510529674, specifity=0.5264483627204031, f_score=0.5250320924261874\n",
      "k=6- accuracy=0.5245692405871091, recall=0.5245692405871091, specifity=0.6070528967254408, f_score=0.47719298245614034\n",
      "k=7- accuracy=0.5360561582641991, recall=0.5360561582641991, specifity=0.5377833753148614, f_score=0.531873792659369\n",
      "k=8- accuracy=0.5194639438417358, recall=0.5194639438417358, specifity=0.6007556675062973, f_score=0.47231955150665733\n",
      "k=9- accuracy=0.5283982131461391, recall=0.5283982131461391, specifity=0.5264483627204031, f_score=0.5259781911481719\n"
     ]
    }
   ],
   "source": [
    "print(\"\\nBlacks\")\n",
    "print_as_table(ks, black_params)\n",
    "print(\"\\nDraws\")\n",
    "print_as_table(ks, draw_params)\n",
    "print(\"\\nWhites\")\n",
    "print_as_table(ks, white_params)"
   ]
  }
 ],
 "metadata": {
  "kernelspec": {
   "display_name": "Python 3 (ipykernel)",
   "language": "python",
   "name": "python3"
  },
  "language_info": {
   "codemirror_mode": {
    "name": "ipython",
    "version": 3
   },
   "file_extension": ".py",
   "mimetype": "text/x-python",
   "name": "python",
   "nbconvert_exporter": "python",
   "pygments_lexer": "ipython3",
   "version": "3.10.7"
  }
 },
 "nbformat": 4,
 "nbformat_minor": 5
}
