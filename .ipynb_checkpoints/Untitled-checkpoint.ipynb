{
 "cells": [
  {
   "cell_type": "code",
   "execution_count": 53,
   "id": "44a3a678",
   "metadata": {},
   "outputs": [],
   "source": [
    "import numpy as np\n",
    "import pandas as pd\n",
    "import matplotlib.pyplot as plt\n",
    "\n",
    "from sklearn.model_selection import train_test_split\n",
    "from sklearn.metrics import confusion_matrix, roc_curve, mean_squared_error \n",
    "\n",
    "from sklearn.neighbors import KNeighborsClassifier\n",
    "from sklearn.preprocessing import LabelEncoder\n",
    "\n",
    "from sklearn.preprocessing import LabelBinarizer\n",
    "\n",
    "import scikitplot as skplt"
   ]
  },
  {
   "cell_type": "code",
   "execution_count": 54,
   "id": "2d058a25",
   "metadata": {
    "collapsed": true
   },
   "outputs": [],
   "source": [
    "#Veriyi temizle ve filitrele\n",
    "def clear_data(df, sample_size = 0, number_of_most_played_games = 200):\n",
    "    #Veriyi Temizle ve Duzenle\n",
    "\n",
    "    if sample_size > 0:\n",
    "        df = df.sample(n = sample_size)# Test ederken boyutunu kucult\n",
    "\n",
    "    df = df[['id', 'opening_name', 'white_rating', 'black_rating', 'winner']]#kullanacagin kolonlari al\n",
    "    df = df.set_index('id')\n",
    "\n",
    "\n",
    "    most_played_games = df['opening_name'].value_counts().sort_values().tail(number_of_most_played_games).keys()\n",
    "    df = df.loc[df['opening_name'].isin(most_played_games)]#Cok az ornegi olan satirlari ele.\n",
    "\n",
    "    df['opening_name'] = df['opening_name'].str.strip().str.replace(r'(:.\\|)|(:.)', '', regex = True)#Acilista onemsiz varyasyonlarini gormezden gel. Regular Expression kullanarak filitreledim\n",
    "    df['opening_name'] = df['opening_name'].str.wrap(15)#Okunurlugu artir. Yoksa grafiklerde labellar tasiyor.\n",
    "\n",
    "\n",
    "\n",
    "    #df = df[df['rated'] == True]\n",
    "    df = df[abs(df['white_rating'] - df['black_rating']) < 100]#Elo'lar arasindaki farkin cok olmasi istenilen bir durum degil\n",
    "\n",
    "    lowestElo, highestElo = df['white_rating'].min(), df['white_rating'].max() \n",
    "\n",
    "    lowestElo = int(lowestElo / 100) * 100\n",
    "    highestElo = int(highestElo / 100) * 100 + 100\n",
    "\n",
    "     #Elo araliklari icin yeni kolon olusturdum.\n",
    "    df['rating_range'] = np.nan\n",
    "\n",
    "    for elo in range(lowestElo, highestElo, 100):\n",
    "        df['rating_range'] = np.where(df['white_rating'].between(elo, elo + 100), f'{elo}-{elo + 100}', df['rating_range'])\n",
    "\n",
    "    #print(df['rating_range'].unique())\n",
    "\n",
    "\n",
    "    return df"
   ]
  },
  {
   "cell_type": "code",
   "execution_count": 55,
   "id": "faf34edd",
   "metadata": {},
   "outputs": [],
   "source": [
    "#Label'lara karsilik numerik deger ata\n",
    "def encode_labels(df):\n",
    "    labelencoder = LabelEncoder()\n",
    "\n",
    "    dfc = df.copy()\n",
    "    dfc['opening_name'] = labelencoder.fit_transform(df['opening_name'])\n",
    "    dfc['rating_range'] = labelencoder.fit_transform(df['rating_range'])\n",
    "    dfc['winner'] = labelencoder.fit_transform(df['winner'])\n",
    "\n",
    "\n",
    "\n",
    "    return dfc\n"
   ]
  },
  {
   "cell_type": "code",
   "execution_count": 56,
   "id": "c5a2abe9",
   "metadata": {},
   "outputs": [],
   "source": [
    "def split_train_and_test(df, test_size = 0.25):#Dorte birini test verisi olarak al\n",
    "    x = df[['opening_name', 'white_rating', 'black_rating', 'rating_range']]\n",
    "    y = df['winner']\n",
    "    return train_test_split(x, y, test_size = test_size, random_state = 42) #Veriyi test ve train olarak ikiye ayir.\n"
   ]
  },
  {
   "cell_type": "code",
   "execution_count": 57,
   "id": "436bd9ff",
   "metadata": {},
   "outputs": [],
   "source": [
    "def train(model, x_train, x_test, y_train, y_test):\n",
    "    model = model.fit(x_train, y_train)\n",
    "    return model.predict(x_test)"
   ]
  },
  {
   "cell_type": "code",
   "execution_count": 58,
   "id": "3db9e3c2",
   "metadata": {},
   "outputs": [],
   "source": [
    "\n",
    "#Train ve Validation Hatasi    \n",
    "def calc_metrics(x_train, y_train, x_test, y_test, model):\n",
    "    model.fit(x_train, y_train)\n",
    "\n",
    "    predictions = model.predict(x_train)\n",
    "    train_error = mean_squared_error(y_train, predictions)#Train Hatasi\n",
    "\n",
    "    predictions = model.predict(x_test)\n",
    "    validation_error = mean_squared_error(y_test, predictions)#Validation Hatasi\n",
    "    \n",
    "    return train_error, validation_error"
   ]
  },
  {
   "cell_type": "code",
   "execution_count": 59,
   "id": "52ebbbcc",
   "metadata": {},
   "outputs": [],
   "source": [
    "def get_metrics(y_actual, y_pred, print_confussion_matrix = False):\n",
    "    #white, black, draw olmak uzere uc cesit label var\n",
    "    #confusion matrix 3x3 olacak\n",
    "    labels = np.unique(y_actual)\n",
    "\n",
    "    cm = confusion_matrix(y_actual, y_pred, labels = labels)\n",
    "    fp = cm.sum(axis=0) - np.diag(cm)#false positive\n",
    "    fn = cm.sum(axis=1) - np.diag(cm)#false negative\n",
    "    tp = np.diag(cm)#true positive\n",
    "    tn = cm.sum() - (fp + fn + tp)#true negative\n",
    "\n",
    "    if(print_confussion_matrix):\n",
    "        print(\"----Confusion Matrix----\\n\")\n",
    "        print(pd.DataFrame(cm, index = labels, columns = labels))\n",
    "        print('\\n')\n",
    "\n",
    "    acc = (tp + tn) / (tp + fp + tn + fn)#Dogruluk degerini hesapla\n",
    "    recall = (tp + tn) / (tp + fp + tn + fn)\n",
    "    specifity = tn / (tn + fp)\n",
    "    f_score = 2 * tp / (2 * tp + fp + fn)\n",
    "\n",
    "\n",
    "    binarized_actual = LabelBinarizer().fit(y_actual) # binarize for roc cure\n",
    "    binarized_pred = LabelBinarizer().fit(y_pred)\n",
    "\n",
    "    fpr, tpr, threshold = roc_curve(binarized_actual.transform([0]), binarized_pred.transform([0])) #Black\n",
    "    #fpr, tpr, threshold = roc_curve(binarized_actual.transform([1]), binarized_pred.transform([1])) #Draw\n",
    "    #fpr, tpr, threshold = roc_curve(binarized_actual.transform([2]), binarized_pred.transform([2])) #White\n",
    "\n",
    "    return acc, recall, specifity, f_score, fpr, tpr\n"
   ]
  },
  {
   "cell_type": "code",
   "execution_count": 60,
   "id": "fc5b4696",
   "metadata": {},
   "outputs": [],
   "source": [
    "df = pd.read_csv(\"../datasets/games.csv\")\n",
    "df = clear_data(df)\n",
    "df = encode_labels(df)"
   ]
  },
  {
   "cell_type": "code",
   "execution_count": 61,
   "id": "8e423504",
   "metadata": {},
   "outputs": [],
   "source": [
    "def print_as_table(ks, params):\n",
    "    for i in range(len(ks)):\n",
    "        k = ks[i]\n",
    "        param = params[i]\n",
    "        print(f\"k={k}- accuracy={param[0]}, recall={param[1]}, specifity={param[2]}, f_score={param[3]}\")\n",
    "\n",
    "    y_probas = param[4]\n",
    "    y_actual = param[5]\n",
    "    skplt.metrics.plot_roc(y_actual, y_probas)\n",
    "    plt.show()"
   ]
  },
  {
   "cell_type": "code",
   "execution_count": 62,
   "id": "e0bbb59c",
   "metadata": {},
   "outputs": [],
   "source": [
    "dfc = df.copy()\n",
    "\n",
    "\n",
    "white_params, black_params, draw_params = [], [], []\n",
    "ks = []\n",
    "x_train, x_test, y_train, y_test = split_train_and_test(dfc)\n",
    "week = 1"
   ]
  },
  {
   "cell_type": "code",
   "execution_count": 63,
   "id": "536ab93e",
   "metadata": {},
   "outputs": [],
   "source": [
    "def add_params(y_pred):\n",
    "    acc, recall, specifity, f_score, fpr, tpr = get_metrics(y_test, y_pred)\n",
    "\n",
    "    black_params.append((acc[0], recall[0], specifity[0], f_score[0], fpr, tpr))\n",
    "    draw_params.append((acc[1], recall[1], specifity[1], f_score[1], fpr, tpr))\n",
    "    white_params.append((acc[2], recall[2], specifity[2], f_score[2], fpr, tpr))"
   ]
  },
  {
   "cell_type": "code",
   "execution_count": 65,
   "id": "f0cd2ae2",
   "metadata": {},
   "outputs": [],
   "source": [
    "if week == 1:\n",
    "    for k in range(1, 10):#farkli k degerlerine gore olc\n",
    "        ks.append(k)\n",
    "        model = KNeighborsClassifier(n_neighbors=k)\n",
    "\n",
    "        y_pred = train(model, x_train, x_test, y_train, y_test)\n",
    "        add_params(y_pred)\n"
   ]
  },
  {
   "cell_type": "code",
   "execution_count": null,
   "id": "6fbf987e",
   "metadata": {},
   "outputs": [],
   "source": [
    "if week == 2:\n",
    "    for k in range(1, 10):\n",
    "        ks.append(k)\n",
    "        model = KNeighborsClassifier(n_neighbors=k)\n",
    "\n",
    "        y_pred = train(model, x_train, x_test, y_train, y_test)\n",
    "        add_params(y_pred)"
   ]
  },
  {
   "cell_type": "code",
   "execution_count": null,
   "id": "7b0b295b",
   "metadata": {},
   "outputs": [
    {
     "name": "stdout",
     "output_type": "stream",
     "text": [
      "\n",
      "Blacks\n",
      "k=1- accuracy=0.5303126994256541, recall=0.5303126994256541, specifity=0.5617848970251716, f_score=0.480225988700565\n",
      "k=2- accuracy=0.4894703254626675, recall=0.4894703254626675, specifity=0.30892448512585813, f_score=0.5540691192865106\n",
      "k=3- accuracy=0.5169112954690491, recall=0.5169112954690491, specifity=0.540045766590389, f_score=0.47173761339846476\n",
      "k=4- accuracy=0.5079770261646458, recall=0.5079770261646458, specifity=0.41876430205949655, f_score=0.5272838749233599\n",
      "k=5- accuracy=0.5143586470963625, recall=0.5143586470963625, specifity=0.5297482837528604, f_score=0.47408431237042153\n",
      "k=6- accuracy=0.5067007019783025, recall=0.5067007019783025, specifity=0.43592677345537756, f_score=0.5165728580362726\n",
      "k=7- accuracy=0.5303126994256541, recall=0.5303126994256541, specifity=0.5320366132723112, f_score=0.4986376021798365\n",
      "k=8- accuracy=0.5098915124441609, recall=0.5098915124441609, specifity=0.4405034324942792, f_score=0.518796992481203\n",
      "k=9- accuracy=0.5277600510529674, recall=0.5277600510529674, specifity=0.528604118993135, f_score=0.4965986394557823\n"
     ]
    },
    {
     "ename": "IndexError",
     "evalue": "too many indices for array: array is 1-dimensional, but 2 were indexed",
     "output_type": "error",
     "traceback": [
      "\u001b[1;31m---------------------------------------------------------------------------\u001b[0m",
      "\u001b[1;31mIndexError\u001b[0m                                Traceback (most recent call last)",
      "\u001b[1;32md:\\Sites\\ai-homeworks\\.ipynb_checkpoints\\Untitled-checkpoint.ipynb Cell 14\u001b[0m line \u001b[0;36m2\n\u001b[0;32m      <a href='vscode-notebook-cell:/d%3A/Sites/ai-homeworks/.ipynb_checkpoints/Untitled-checkpoint.ipynb#X13sZmlsZQ%3D%3D?line=0'>1</a>\u001b[0m \u001b[39mprint\u001b[39m(\u001b[39m\"\u001b[39m\u001b[39m\\n\u001b[39;00m\u001b[39mBlacks\u001b[39m\u001b[39m\"\u001b[39m)\n\u001b[1;32m----> <a href='vscode-notebook-cell:/d%3A/Sites/ai-homeworks/.ipynb_checkpoints/Untitled-checkpoint.ipynb#X13sZmlsZQ%3D%3D?line=1'>2</a>\u001b[0m print_as_table(ks, black_params)\n\u001b[0;32m      <a href='vscode-notebook-cell:/d%3A/Sites/ai-homeworks/.ipynb_checkpoints/Untitled-checkpoint.ipynb#X13sZmlsZQ%3D%3D?line=2'>3</a>\u001b[0m \u001b[39mprint\u001b[39m(\u001b[39m\"\u001b[39m\u001b[39m\\n\u001b[39;00m\u001b[39mDraws\u001b[39m\u001b[39m\"\u001b[39m)\n\u001b[0;32m      <a href='vscode-notebook-cell:/d%3A/Sites/ai-homeworks/.ipynb_checkpoints/Untitled-checkpoint.ipynb#X13sZmlsZQ%3D%3D?line=3'>4</a>\u001b[0m print_as_table(ks, draw_params)\n",
      "\u001b[1;32md:\\Sites\\ai-homeworks\\.ipynb_checkpoints\\Untitled-checkpoint.ipynb Cell 14\u001b[0m line \u001b[0;36m8\n\u001b[0;32m      <a href='vscode-notebook-cell:/d%3A/Sites/ai-homeworks/.ipynb_checkpoints/Untitled-checkpoint.ipynb#X13sZmlsZQ%3D%3D?line=3'>4</a>\u001b[0m     param \u001b[39m=\u001b[39m params[i]\n\u001b[0;32m      <a href='vscode-notebook-cell:/d%3A/Sites/ai-homeworks/.ipynb_checkpoints/Untitled-checkpoint.ipynb#X13sZmlsZQ%3D%3D?line=4'>5</a>\u001b[0m     \u001b[39mprint\u001b[39m(\u001b[39mf\u001b[39m\u001b[39m\"\u001b[39m\u001b[39mk=\u001b[39m\u001b[39m{\u001b[39;00mk\u001b[39m}\u001b[39;00m\u001b[39m- accuracy=\u001b[39m\u001b[39m{\u001b[39;00mparam[\u001b[39m0\u001b[39m]\u001b[39m}\u001b[39;00m\u001b[39m, recall=\u001b[39m\u001b[39m{\u001b[39;00mparam[\u001b[39m1\u001b[39m]\u001b[39m}\u001b[39;00m\u001b[39m, specifity=\u001b[39m\u001b[39m{\u001b[39;00mparam[\u001b[39m2\u001b[39m]\u001b[39m}\u001b[39;00m\u001b[39m, f_score=\u001b[39m\u001b[39m{\u001b[39;00mparam[\u001b[39m3\u001b[39m]\u001b[39m}\u001b[39;00m\u001b[39m\"\u001b[39m)\n\u001b[1;32m----> <a href='vscode-notebook-cell:/d%3A/Sites/ai-homeworks/.ipynb_checkpoints/Untitled-checkpoint.ipynb#X13sZmlsZQ%3D%3D?line=7'>8</a>\u001b[0m skplt\u001b[39m.\u001b[39;49mmetrics\u001b[39m.\u001b[39;49mplot_roc(param[\u001b[39m4\u001b[39;49m], param[\u001b[39m5\u001b[39;49m])\n\u001b[0;32m      <a href='vscode-notebook-cell:/d%3A/Sites/ai-homeworks/.ipynb_checkpoints/Untitled-checkpoint.ipynb#X13sZmlsZQ%3D%3D?line=8'>9</a>\u001b[0m plt\u001b[39m.\u001b[39mshow()\n",
      "File \u001b[1;32mc:\\Python310\\lib\\site-packages\\scikitplot\\metrics.py:414\u001b[0m, in \u001b[0;36mplot_roc\u001b[1;34m(y_true, y_probas, title, plot_micro, plot_macro, classes_to_plot, ax, figsize, cmap, title_fontsize, text_fontsize)\u001b[0m\n\u001b[0;32m    412\u001b[0m indices_to_plot \u001b[39m=\u001b[39m np\u001b[39m.\u001b[39min1d(classes, classes_to_plot)\n\u001b[0;32m    413\u001b[0m \u001b[39mfor\u001b[39;00m i, to_plot \u001b[39min\u001b[39;00m \u001b[39menumerate\u001b[39m(indices_to_plot):\n\u001b[1;32m--> 414\u001b[0m     fpr_dict[i], tpr_dict[i], _ \u001b[39m=\u001b[39m roc_curve(y_true, probas[:, i],\n\u001b[0;32m    415\u001b[0m                                             pos_label\u001b[39m=\u001b[39mclasses[i])\n\u001b[0;32m    416\u001b[0m     \u001b[39mif\u001b[39;00m to_plot:\n\u001b[0;32m    417\u001b[0m         roc_auc \u001b[39m=\u001b[39m auc(fpr_dict[i], tpr_dict[i])\n",
      "\u001b[1;31mIndexError\u001b[0m: too many indices for array: array is 1-dimensional, but 2 were indexed"
     ]
    },
    {
     "data": {
      "image/png": "[encoded data removed]",
      "text/plain": [
       "<Figure size 640x480 with 1 Axes>"
      ]
     },
     "metadata": {},
     "output_type": "display_data"
    }
   ],
   "source": [
    "print(\"\\nBlacks\")\n",
    "print_as_table(ks, black_params)\n",
    "print(\"\\nDraws\")\n",
    "print_as_table(ks, draw_params)\n",
    "print(\"\\nWhites\")\n",
    "print_as_table(ks, white_params)"
   ]
  }
 ],
 "metadata": {
  "kernelspec": {
   "display_name": "Python 3 (ipykernel)",
   "language": "python",
   "name": "python3"
  },
  "language_info": {
   "codemirror_mode": {
    "name": "ipython",
    "version": 3
   },
   "file_extension": ".py",
   "mimetype": "text/x-python",
   "name": "python",
   "nbconvert_exporter": "python",
   "pygments_lexer": "ipython3",
   "version": "3.10.7"
  }
 },
 "nbformat": 4,
 "nbformat_minor": 5
}
